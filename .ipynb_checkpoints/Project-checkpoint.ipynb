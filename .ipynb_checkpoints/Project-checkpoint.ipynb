{
 "cells": [
  {
   "cell_type": "markdown",
   "id": "7dd562cb",
   "metadata": {},
   "source": [
    "# Action class"
   ]
  },
  {
   "cell_type": "code",
   "execution_count": 1,
   "id": "51180caa",
   "metadata": {},
   "outputs": [],
   "source": [
    "class Action:\n",
    "    pre = {} #preconditions\n",
    "    eff={} #effects\n",
    "    cost=0\n",
    "    name = \"\"\n",
    "    def __init__(self, p, e, c, n):\n",
    "        self.pre = p\n",
    "        self.eff = e\n",
    "        self.name = n\n",
    "        self.cost = c\n",
    "        \n",
    "    def formatFluents(self, d):\n",
    "        string = \"\"\n",
    "        for k in d.keys():\n",
    "            if(d[k]==0):\n",
    "                string += \"\\n- \" + k\n",
    "            else:\n",
    "                string += \"\\n+ \" + k\n",
    "        return string\n",
    "\n",
    "    def __str__(self):\n",
    "        return f'Name: {self.name} \\nCost: {self.cost} \\nPreconditions: {self.formatFluents(self.pre)} \\nEffects: {self.formatFluents(self.eff)}'"
   ]
  },
  {
   "cell_type": "markdown",
   "id": "fe567f89",
   "metadata": {},
   "source": [
    "## Define actions"
   ]
  },
  {
   "cell_type": "code",
   "execution_count": 2,
   "id": "bd927684",
   "metadata": {},
   "outputs": [],
   "source": [
    "a1 = Action(p={\"person\":1, \"hungry\":0, \"hasCake\":1},e={\"hasCake\":0, \"person\":0},c=1,n=\"EatCake B\")\n",
    "a2 = Action(p={\"person\":1, \"hungry\":1, \"hasCake\":1},e={\"hasCake\":0, \"eatenCake\":1,\"hungry\":0},c=1,n=\"EatCake A\")\n",
    "a3 = Action(p={\"person\":1,\"hasMix\":1},e={\"hasCake\":1,\"hasMix\":0},c=1,n=\"MakeCake\")\n",
    "a4 = Action(p={\"person\":1,\"hungry\":0},e={\"hungry\":1},c=1,n=\"Wait\")\n",
    "a5 = Action(p={\"person\":1},e={\"hasMix\":1},c=1,n=\"Go Shopping\")\n",
    "\n",
    "actions = [a1,a2,a3,a4,a5]"
   ]
  },
  {
   "cell_type": "markdown",
   "id": "35b14e61",
   "metadata": {},
   "source": [
    "## Define start and goal state"
   ]
  },
  {
   "cell_type": "code",
   "execution_count": 3,
   "id": "e41dcd0a",
   "metadata": {},
   "outputs": [],
   "source": [
    "goal = {'person':1,'hungry':0, \"hasCake\":1, \"eatenCake\":1}\n",
    "start = {'person':1}"
   ]
  },
  {
   "cell_type": "markdown",
   "id": "8a78d5d2",
   "metadata": {},
   "source": [
    "## Define functions"
   ]
  },
  {
   "cell_type": "code",
   "execution_count": 4,
   "id": "8595ba28",
   "metadata": {},
   "outputs": [],
   "source": [
    "# Get only positive fluents\n",
    "def getPositiveFluents(state):\n",
    "    return {key:val for key, val in state.items() if val == 1}\n",
    "\n",
    "\n",
    "# Get only negative fluents\n",
    "def getNegativeFluents(state):\n",
    "    return {key:val for key, val in state.items() if val == 0}\n",
    "\n",
    "\n",
    "# Check if two states match (match positive fluents only)\n",
    "def statesMatch(s1,s2):\n",
    "    s1_pos = getPositiveFluents(s1).copy()\n",
    "    s2_pos = getPositiveFluents(s2).copy()\n",
    "    return s1_pos == s2_pos\n",
    "\n",
    "\n",
    "# Checks if state is a subset of the target – logic rule for checking goal state and applicable actions\n",
    "def stateSubset(state, target):\n",
    "    positives = getPositiveFluents(state).copy()\n",
    "    targetPos = getPositiveFluents(target).copy()\n",
    "    targetNeg = getNegativeFluents(target).copy()\n",
    "    subsetPos = targetPos.items() <= positives.items()\n",
    "    subsetNeg = any(p in positives for p in targetNeg) == False\n",
    "    return subsetPos & subsetNeg\n",
    "\n",
    "\n",
    "# Checks if a state fulfills the requirements for a goal state\n",
    "def atGoal(state, goal):\n",
    "    remainders = getPositiveFluents(state).copy().items() - getPositiveFluents(goal).copy().items()\n",
    "    worldCompliment = remainders - getNegativeFluents(goal).copy().items() == set()\n",
    "    return stateSubset(state, goal) & worldCompliment\n",
    "\n",
    "\n",
    "# Checks if an action is applicable for a given state\n",
    "def isApplicable(state, action):\n",
    "    return stateSubset(state, action.pre)\n",
    "    \n",
    "\n",
    "# For a state and all possible actions, return the [applicable actions] for the given state\n",
    "def applicableActions(state, actions):\n",
    "    arr = []\n",
    "    for a in actions:\n",
    "        if isApplicable(state, a):\n",
    "            arr.append(a)\n",
    "    return arr\n",
    "\n",
    "\n",
    "# Given a state and an action, applies the action and returns the following state if all preconditions are met\n",
    "def applyAction(state, action):    \n",
    "    if isApplicable(state, action) == False:\n",
    "        raise Exception(f'Action {action.name} cannot be applied to state {str(state)}')\n",
    "    newState = state.copy()\n",
    "    effects = action.eff.copy()\n",
    "    for k in effects.keys():\n",
    "        newState[k] = effects[k]\n",
    "        if effects[k] == 0:\n",
    "            newState.pop(k)\n",
    "    return newState"
   ]
  },
  {
   "cell_type": "markdown",
   "id": "c9825f4b",
   "metadata": {},
   "source": [
    "# A*"
   ]
  },
  {
   "cell_type": "code",
   "execution_count": 5,
   "id": "4b675a51",
   "metadata": {},
   "outputs": [],
   "source": [
    "# Node class for frontier\n",
    "class Node:\n",
    "    \n",
    "    def __init__(self, state, cost, path):\n",
    "        self.state = state\n",
    "        self.cost = cost\n",
    "        self.path = path\n",
    "\n",
    "    def __str__(self):\n",
    "        pathNames = [p.name for p in self.path]\n",
    "        pathStr = '[' + ', '.join(pathNames) + ']'\n",
    "        return f'State: {self.state}, Cost: {self.cost}, Path: {pathStr}'"
   ]
  },
  {
   "cell_type": "code",
   "execution_count": 6,
   "id": "60c0ed74",
   "metadata": {},
   "outputs": [],
   "source": [
    "# Heuristic function for A* – a distance heuristic based on the amount of fluents that differ from the goal\n",
    "def heuristic(nextState, goal):\n",
    "    return len(dict(set(goal.items()) - set(nextState.items())))"
   ]
  },
  {
   "cell_type": "code",
   "execution_count": 47,
   "id": "3d2f555a",
   "metadata": {},
   "outputs": [],
   "source": [
    "def travelHeuristic(nextState):\n",
    "    atTerminal = False\n",
    "    atHome = False\n",
    "    dic = nextState.copy()\n",
    "    key, value = 'atTerminal',1\n",
    "    if key in dic and value == dic[key]:\n",
    "        atTerminal = True\n",
    "    key, value = 'atHome',1\n",
    "    if key in dic and value == dic[key]:\n",
    "        atHome = True\n",
    "\n",
    "    if atHome == False and atTerminal == False:\n",
    "        return 1\n",
    "    if atHome == True and atTerminal == False:\n",
    "        return 4\n",
    "    if atHome == False and atTerminal == True:\n",
    "        return 2\n",
    "    return 10 # This should never happen"
   ]
  },
  {
   "cell_type": "code",
   "execution_count": 49,
   "id": "b461dcd7",
   "metadata": {},
   "outputs": [],
   "source": [
    "def aStar(start, goal, actions):\n",
    "\n",
    "    # Init start node, frontier and visited list\n",
    "    init = Node(start, 0, [])\n",
    "    frontier = [init]\n",
    "    visited = [init]\n",
    "\n",
    "    while True:\n",
    "        \n",
    "        # Get first node from frontier\n",
    "        head = frontier.pop(0)\n",
    "\n",
    "        state = head.state.copy()\n",
    "\n",
    "        # When A* has found a path, return it\n",
    "        if (atGoal(state, goal)):\n",
    "            print(f'A* found a path with cost: {head.cost}')\n",
    "            return head.path\n",
    "\n",
    "        applicActions = applicableActions(state, actions)\n",
    "        \n",
    "        for action in applicActions:\n",
    "            nextState = applyAction(state, action).copy()\n",
    "            newPath = head.path + [action]\n",
    "            cost = heuristic(nextState, goal) + head.cost + action.cost\n",
    "            newNode = Node(nextState, cost, newPath)\n",
    "\n",
    "            # Only apply action if we haven't visited the state before\n",
    "            vis = False\n",
    "            for i in range(len(visited)):\n",
    "                if visited[i].state == nextState:\n",
    "                    vis = True\n",
    "                    if cost < visited[i].cost:\n",
    "                        visited[i] = newNode\n",
    "                        frontier.append(newNode)\n",
    "            if vis == False:\n",
    "                visited.append(newNode)\n",
    "                frontier.append(newNode)\n",
    "\n",
    "        # Sort frontier based on costs\n",
    "        frontier = sorted(frontier, key=lambda x:x.cost)\n",
    "        \n"
   ]
  },
  {
   "cell_type": "code",
   "execution_count": 50,
   "id": "7b8a1c33",
   "metadata": {},
   "outputs": [
    {
     "ename": "TypeError",
     "evalue": "travelHeuristic() takes 1 positional argument but 2 were given",
     "output_type": "error",
     "traceback": [
      "\u001b[0;31m---------------------------------------------------------------------------\u001b[0m",
      "\u001b[0;31mTypeError\u001b[0m                                 Traceback (most recent call last)",
      "Cell \u001b[0;32mIn[50], line 16\u001b[0m\n\u001b[1;32m     12\u001b[0m demoA8 \u001b[38;5;241m=\u001b[39m Action(p\u001b[38;5;241m=\u001b[39m{\u001b[38;5;124m\"\u001b[39m\u001b[38;5;124mcheckedIn\u001b[39m\u001b[38;5;124m\"\u001b[39m:\u001b[38;5;241m1\u001b[39m,\u001b[38;5;124m\"\u001b[39m\u001b[38;5;124mboarded\u001b[39m\u001b[38;5;124m\"\u001b[39m:\u001b[38;5;241m1\u001b[39m, \u001b[38;5;124m\"\u001b[39m\u001b[38;5;124matDestination\u001b[39m\u001b[38;5;124m\"\u001b[39m:\u001b[38;5;241m0\u001b[39m},e\u001b[38;5;241m=\u001b[39m{\u001b[38;5;124m\"\u001b[39m\u001b[38;5;124matDestination\u001b[39m\u001b[38;5;124m\"\u001b[39m:\u001b[38;5;241m1\u001b[39m,\u001b[38;5;124m\"\u001b[39m\u001b[38;5;124matTerminal\u001b[39m\u001b[38;5;124m\"\u001b[39m:\u001b[38;5;241m0\u001b[39m,\u001b[38;5;124m\"\u001b[39m\u001b[38;5;124mboarded\u001b[39m\u001b[38;5;124m\"\u001b[39m:\u001b[38;5;241m0\u001b[39m, \u001b[38;5;124m\"\u001b[39m\u001b[38;5;124mcheckedIn\u001b[39m\u001b[38;5;124m\"\u001b[39m:\u001b[38;5;241m0\u001b[39m},c\u001b[38;5;241m=\u001b[39m\u001b[38;5;241m1\u001b[39m,n\u001b[38;5;241m=\u001b[39m\u001b[38;5;124m\"\u001b[39m\u001b[38;5;124mTake Plane\u001b[39m\u001b[38;5;124m\"\u001b[39m)\n\u001b[1;32m     14\u001b[0m demoActions\u001b[38;5;241m=\u001b[39m[demoA1,demoA2,demoA3,demoA4,demoA5,demoA6,demoA7,demoA8]\n\u001b[0;32m---> 16\u001b[0m solution \u001b[38;5;241m=\u001b[39m aStar(demoStart, demoGoal, demoActions)\n\u001b[1;32m     17\u001b[0m \u001b[38;5;28mprint\u001b[39m(\u001b[38;5;124mf\u001b[39m\u001b[38;5;124m'\u001b[39m\u001b[38;5;124mSolution: \u001b[39m\u001b[38;5;132;01m{\u001b[39;00m[a\u001b[38;5;241m.\u001b[39mname\u001b[38;5;250m \u001b[39m\u001b[38;5;28;01mfor\u001b[39;00m\u001b[38;5;250m \u001b[39ma\u001b[38;5;250m \u001b[39m\u001b[38;5;129;01min\u001b[39;00m\u001b[38;5;250m \u001b[39msolution]\u001b[38;5;132;01m}\u001b[39;00m\u001b[38;5;124m'\u001b[39m)\n",
      "Cell \u001b[0;32mIn[49], line 25\u001b[0m, in \u001b[0;36maStar\u001b[0;34m(start, goal, actions)\u001b[0m\n\u001b[1;32m     23\u001b[0m nextState \u001b[38;5;241m=\u001b[39m applyAction(state, action)\u001b[38;5;241m.\u001b[39mcopy()\n\u001b[1;32m     24\u001b[0m newPath \u001b[38;5;241m=\u001b[39m head\u001b[38;5;241m.\u001b[39mpath \u001b[38;5;241m+\u001b[39m [action]\n\u001b[0;32m---> 25\u001b[0m cost \u001b[38;5;241m=\u001b[39m travelHeuristic(nextState, goal) \u001b[38;5;241m+\u001b[39m head\u001b[38;5;241m.\u001b[39mcost \u001b[38;5;241m+\u001b[39m action\u001b[38;5;241m.\u001b[39mcost\n\u001b[1;32m     26\u001b[0m newNode \u001b[38;5;241m=\u001b[39m Node(nextState, cost, newPath)\n\u001b[1;32m     28\u001b[0m \u001b[38;5;66;03m# Only apply action if we haven't visited the state before\u001b[39;00m\n",
      "\u001b[0;31mTypeError\u001b[0m: travelHeuristic() takes 1 positional argument but 2 were given"
     ]
    }
   ],
   "source": [
    "demoGoal = {'atDestination':1,'haveBags':1}\n",
    "demoStart = {\"atHome\":1} \n",
    "demoState = {}\n",
    "demoSteps = []\n",
    "demoA1 = Action(p={\"atHome\":1},e={\"haveBags\":1},c=1,n=\"Pack\")\n",
    "demoA2 = Action(p={\"haveBags\":1, \"carFueled\":0},e={\"carFueled\":1},c=2,n=\"FuelCar\")\n",
    "demoA3 = Action(p={\"haveBags\":1,\"carFueled\":1,\"atDestination\":0},e={\"carFueled\":0,'atDestination':1,\"atHome\":0},c=10,n=\"Drive\")\n",
    "demoA4 = Action(p={\"haveBags\":1, \"atHome\":1},e={\"atTerminal\":1,\"atHome\":0},c=2,n=\"Go To Terminal\")\n",
    "demoA5 = Action(p={\"atTerminal\":1,\"haveBags\":1,\"boarded\":0},e={\"boarded\":1},c=1,n=\"Board\")\n",
    "demoA6 = Action(p={\"atTerminal\":1, \"boarded\":0, \"checkedIn\":0},e={\"checkedIn\":1},c=1,n=\"Check In\")\n",
    "demoA7 = Action(p={\"checkedIn\":0,\"boarded\":1, \"atDestination\":0},e={\"atDestination\":1, \"atTerminal\":0, \"boarded\":0},c=3,n=\"Take Train\")\n",
    "demoA8 = Action(p={\"checkedIn\":1,\"boarded\":1, \"atDestination\":0},e={\"atDestination\":1,\"atTerminal\":0,\"boarded\":0, \"checkedIn\":0},c=1,n=\"Take Plane\")\n",
    "\n",
    "demoActions=[demoA1,demoA2,demoA3,demoA4,demoA5,demoA6,demoA7,demoA8]\n",
    "\n",
    "solution = aStar(demoStart, demoGoal, demoActions)\n",
    "print(f'Solution: {[a.name for a in solution]}')"
   ]
  },
  {
   "cell_type": "markdown",
   "id": "c4aba375",
   "metadata": {},
   "source": [
    "# Testing"
   ]
  },
  {
   "cell_type": "code",
   "execution_count": 8,
   "id": "faebc387",
   "metadata": {},
   "outputs": [],
   "source": [
    "def testStatesMatch():\n",
    "    \n",
    "    # Test null state\n",
    "    s1 = {}\n",
    "    s2 = {}\n",
    "    assert(statesMatch(s1,s2))\n",
    "    \n",
    "    # Test equal state\n",
    "    s1 = {'person':1,'hungry':0}\n",
    "    s2 = {'person':1,'hungry':0}\n",
    "    assert(statesMatch(s1,s2))\n",
    "    \n",
    "    # Test pass by omission\n",
    "    s1 = {'person':1}\n",
    "    s2 = {'person':1, 'hungry':0}\n",
    "    assert(statesMatch(s1,s2))\n",
    "    \n",
    "    # Test non-equal fluents state\n",
    "    s1 = {'person':1,'hungry':0}\n",
    "    s2 = {'person':0,'hungry':1}\n",
    "    assert(statesMatch(s1,s2) == False)\n",
    "    \n",
    "    # Test different states\n",
    "    s1 = {'person':1}\n",
    "    s2 = {'hungry':1}\n",
    "    assert(statesMatch(s1,s2) == False)\n",
    "    \n",
    "    # Test different states\n",
    "    s1 = {'person':1}\n",
    "    s2 = {'hungry':0}\n",
    "    assert(statesMatch(s1,s2) == False)\n",
    "    \n",
    "    # Test different states\n",
    "    s1 = {'person':1}\n",
    "    s2 = {'person':1, 'hungry':1}\n",
    "    assert(statesMatch(s1,s2) == False)\n",
    "    \n",
    "    print(f'All test cases for function \"statesMatch\" passed')\n",
    "\n",
    "    \n",
    "def testGetPositiveFluents():\n",
    "    \n",
    "    s = {'person':0,'hungry':0}\n",
    "    assert(getPositiveFluents(s) == {})\n",
    "    \n",
    "    s = {'person':1,'hungry':0}\n",
    "    assert(getPositiveFluents(s) == {'person':1})\n",
    "    \n",
    "    s = {'person':1, 'hungry':1, 'angry': 1}\n",
    "    assert(getPositiveFluents(s) == {'person':1, 'hungry':1, 'angry': 1})\n",
    "    \n",
    "    s = {'person':1}\n",
    "    assert(getPositiveFluents(s) == {'person':1})\n",
    "    \n",
    "    print(f'All test cases for function \"getPositiveFluents\" passed')\n",
    "    \n",
    "    \n",
    "def testApplicableActions():\n",
    "    \n",
    "    # Test cases from powerpoint examples\n",
    "    start = {'person':1}\n",
    "    applActions = applicableActions(start, actions)\n",
    "    assert(all(a in [a4,a5] for a in applActions))\n",
    "    assert(any(a in [a1,a2,a3] for a in applActions) == False)\n",
    "    \n",
    "    s1 = {'person': 1, 'hasMix': 1}\n",
    "    applActions = applicableActions(s1, actions)\n",
    "    assert(all(a in [a3,a4,a5] for a in applActions))\n",
    "    assert(any(a in [a1,a2] for a in applActions) == False)\n",
    "    \n",
    "    s2 = {'person': 1, 'hungry': 1}\n",
    "    applActions = applicableActions(s2, actions)\n",
    "    assert(all(a in [a5] for a in applActions))\n",
    "    assert(any(a in [a1,a2,a3,a4] for a in applActions) == False)\n",
    "    \n",
    "    s3 = {'person': 1, 'hasCake': 1}\n",
    "    applActions = applicableActions(s3, actions)\n",
    "    assert(all(a in [a1,a4,a5] for a in applActions))\n",
    "    assert(any(a in [a2,a3] for a in applActions) == False)\n",
    "    \n",
    "    s4 = {'person': 1, 'hungry': 1, 'hasMix': 1}\n",
    "    applActions = applicableActions(s4, actions)\n",
    "    assert(all(a in [a3,a5] for a in applActions))\n",
    "    assert(any(a in [a1,a2,a4] for a in applActions) == False)\n",
    "    \n",
    "    print(f'All test cases for function \"applicableActions\" passed')\n",
    "\n",
    "    \n",
    "def testApplyAction():\n",
    "    \n",
    "    # Test added fluents\n",
    "    s = {'a':1}\n",
    "    a = Action(p={'a':1},e={'b':1},c=0,n=\"\")\n",
    "    assert(applyAction(s, a) == {'a':1, 'b':1})\n",
    "    a = Action(p={'a':1},e={'b':1, 'c':1},c=0,n=\"\")\n",
    "    assert(applyAction(s, a) == {'a':1, 'b':1, 'c':1})\n",
    "    \n",
    "    # Test omission\n",
    "    s = {'a':1}\n",
    "    a = Action(p={'a':1, 'c':0},e={'b':1, 'c':1},c=0,n=\"\")\n",
    "    assert(applyAction(s, a) == {'a':1, 'b':1, 'c':1})\n",
    "    \n",
    "    # Test negative (applyAction should throw exception)\n",
    "    try:\n",
    "        s = {'a':1, 'c':1}\n",
    "        a = Action(p={'a':1, 'c':0},e={'b':1, 'c':1},c=0,n=\"\")\n",
    "        raise Exception(f'Test negative failed')\n",
    "    except:\n",
    "        pass\n",
    "    \n",
    "    print(f'All test cases for function \"applyAction\" passed')\n",
    "\n",
    "\n",
    "# Tests valid solutions to the cake-PDDL (See slide 63 - PDDL lecture)\n",
    "def testPDDLsolutions():\n",
    "    \n",
    "    # Test valid path from start to goal\n",
    "    s1 = applyAction(start, a5)\n",
    "    s3 = applyAction(s1, a3)\n",
    "    s5 = applyAction(s3, a5)\n",
    "    s9 = applyAction(s5, a4)\n",
    "    s11 = applyAction(s9, a2)\n",
    "    g = applyAction(s11, a3)\n",
    "    assert(atGoal(g, goal))\n",
    "    \n",
    "    # Test another valid path from start to goal\n",
    "    s2 = applyAction(start, a4)\n",
    "    s4 = applyAction(s2, a5)\n",
    "    s7 = applyAction(s4, a3)\n",
    "    s10 = applyAction(s7, a2)\n",
    "    s11_v2 = applyAction(s10, a5)\n",
    "    \n",
    "    # sanity check - check that s11 from both versions are identical\n",
    "    assert(statesMatch(s11, s11_v2)) \n",
    "    \n",
    "    g2 = applyAction(s11_v2, a3)\n",
    "    assert(atGoal(g2, goal))\n",
    "    \n",
    "    print(f'All test cases for function \"testPDDLsolutions\" passed')\n",
    "\n",
    "    \n",
    "# Validate a PDDL solution\n",
    "def validatePDDL(start, goal, solution):\n",
    "    s = start\n",
    "    for a in solution:\n",
    "        s = applyAction(s, a)\n",
    "    assert(atGoal(s, goal))\n",
    "    print(f'The given PDDL solution is valid')\n",
    "\n",
    "    \n",
    "# Test heuristic function\n",
    "def testHeuristic():\n",
    "    \n",
    "    d1 = {'a':1}\n",
    "    d2 = {'a':1, 'b':2}\n",
    "    assert(heuristic(d1,d2) == 1)\n",
    "    \n",
    "    d1 = {'a':0}\n",
    "    d2 = {'a':1, 'b':2}\n",
    "    assert(heuristic(d1,d2) == 2)\n",
    "    \n",
    "    d1 = {'a':1, 'b':2}\n",
    "    d2 = {'a':1, 'b':2}\n",
    "    assert(heuristic(d1,d2) == 0)\n",
    "    \n",
    "    d1 = {'b':2, 'a':1}\n",
    "    d2 = {'a':1, 'b':2}\n",
    "    assert(heuristic(d1,d2) == 0)\n",
    "    \n",
    "    d1 = {'b':2, 'a':1}\n",
    "    d2 = {}\n",
    "    assert(heuristic(d1,d2) == 0)\n",
    "    \n",
    "    d1 = {'b':2, 'a':1}\n",
    "    d2 = {'a':1}\n",
    "    assert(heuristic(d1,d2) == 0)\n",
    "\n",
    "    print(f'All test cases for function \"heuristic\" passed')\n",
    "    \n",
    "\n",
    "\n",
    "def testAtGoal():\n",
    "    s = {'atGoal':1}\n",
    "    goal = {'atGoal': 1}\n",
    "    assert(atGoal(s,goal))\n",
    "    \n",
    "    s = {'atGoal':1, 'happy':0}\n",
    "    goal = {'atGoal': 1}\n",
    "    assert(atGoal(s,goal))\n",
    "    \n",
    "    s = {'atGoal':0}\n",
    "    goal = {'atGoal': 1}\n",
    "    assert(atGoal(s,goal) == False)\n",
    "    \n",
    "    s = {'notAtGoal':1}\n",
    "    goal = {'atGoal': 1}\n",
    "    assert(atGoal(s,goal) == False)\n",
    "    \n",
    "    print(f'All test cases for function \"atGoal\" passed')\n"
   ]
  },
  {
   "cell_type": "code",
   "execution_count": 9,
   "id": "e6122343",
   "metadata": {},
   "outputs": [
    {
     "name": "stdout",
     "output_type": "stream",
     "text": [
      "All test cases for function \"statesMatch\" passed\n",
      "All test cases for function \"getPositiveFluents\" passed\n",
      "All test cases for function \"applicableActions\" passed\n",
      "All test cases for function \"applyAction\" passed\n",
      "All test cases for function \"testPDDLsolutions\" passed\n",
      "All test cases for function \"heuristic\" passed\n",
      "All test cases for function \"atGoal\" passed\n"
     ]
    }
   ],
   "source": [
    "testStatesMatch()\n",
    "testGetPositiveFluents()\n",
    "testApplicableActions()\n",
    "testApplyAction()\n",
    "testPDDLsolutions()\n",
    "testHeuristic()\n",
    "testAtGoal()"
   ]
  },
  {
   "cell_type": "markdown",
   "id": "00381169",
   "metadata": {},
   "source": [
    "# Test A* on lecture PDDL and confirm solution"
   ]
  },
  {
   "cell_type": "code",
   "execution_count": 10,
   "id": "0bc87bcc",
   "metadata": {
    "scrolled": true
   },
   "outputs": [
    {
     "name": "stdout",
     "output_type": "stream",
     "text": [
      "Solution: ['Go Shopping', 'MakeCake', 'Wait', 'EatCake A', 'Go Shopping', 'MakeCake']\n",
      "The given PDDL solution is valid\n"
     ]
    }
   ],
   "source": [
    "solution = aStar(start, goal, actions)\n",
    "print(f'Solution: {[a.name for a in solution]}')\n",
    "validatePDDL(start, goal, solution)"
   ]
  },
  {
   "cell_type": "markdown",
   "id": "1ba6065d",
   "metadata": {},
   "source": [
    "# Define our PDDL"
   ]
  },
  {
   "cell_type": "code",
   "execution_count": 11,
   "id": "95f7cb70",
   "metadata": {
    "scrolled": true
   },
   "outputs": [],
   "source": [
    "goal = {'atDestination':1,'haveBags':1} #I believe i dont need to put hungry 0\n",
    "start = {'hungry':1} #world-comp: any positive fluent not specified means negated[...]\n",
    "a1 = Action(p={},e={\"rested\":1},c=2,n=\"Sleep\")\n",
    "a2 = Action(p={\"haveMoney\":1,\"haveBags\":0},e={\"carChecked\":1,\"haveMoney\":0},c=2,n=\"CheckCar\")\n",
    "a3 = Action(p={\"carChecked\":1,\"haveBags\":1,\"rested\":1,\"carFuel\":1},e={\"rested\":0,'carChecked':0,\"carFuel\":0,'atDestination':1},c=4,n=\"Drive\")\n",
    "a4 = Action(p={\"haveMoney\":1},e={\"haveFood\":1,\"haveMoney\":0},c=1,n=\"BuyFood\")\n",
    "a5 = Action(p={\"hungry\":1,\"haveFood\":1},e={\"hungry\":0,\"haveFood\":0},c=1,n=\"Eat\")\n",
    "a6 = Action(p={\"haveMoney\":1},e={\"haveMoney\":0,\"carFuel\":1},c=1,n=\"FuelUpCar\")\n",
    "a7 = Action(p={},e={\"haveMoney\":1},c=1,n=\"WithdrawMoney\")\n",
    "a8 = Action(p={},e={\"haveBags\":1,},c=1,n=\"LoadCar\")\n",
    "actions=[a1,a2,a3,a4,a5,a6,a7,a8]"
   ]
  },
  {
   "cell_type": "code",
   "execution_count": 12,
   "id": "83d9113c",
   "metadata": {},
   "outputs": [
    {
     "name": "stdout",
     "output_type": "stream",
     "text": [
      "['Sleep', 'CheckCar', 'BuyFood', 'FuelUpCar', 'WithdrawMoney', 'LoadCar']\n"
     ]
    }
   ],
   "source": [
    "print([a.name for a in applicableActions({'hungry':1, 'haveMoney': 1, 'rested':1}, actions)])"
   ]
  },
  {
   "cell_type": "code",
   "execution_count": 13,
   "id": "016d3d28",
   "metadata": {},
   "outputs": [
    {
     "data": {
      "text/plain": [
       "{'hungry': 1, 'rested': 1, 'haveFood': 1}"
      ]
     },
     "execution_count": 13,
     "metadata": {},
     "output_type": "execute_result"
    }
   ],
   "source": [
    "applyAction({'hungry':1, 'haveMoney': 1, 'rested':1}, a4)"
   ]
  },
  {
   "cell_type": "code",
   "execution_count": 14,
   "id": "9b3a46e9",
   "metadata": {},
   "outputs": [
    {
     "name": "stdout",
     "output_type": "stream",
     "text": [
      "['Sleep', 'Eat', 'WithdrawMoney', 'LoadCar']\n"
     ]
    }
   ],
   "source": [
    "print([a.name for a in applicableActions({'hungry': 1, 'rested': 1, 'haveFood': 1}, actions)])"
   ]
  },
  {
   "cell_type": "code",
   "execution_count": 15,
   "id": "26c0de97",
   "metadata": {},
   "outputs": [
    {
     "data": {
      "text/plain": [
       "{'rested': 1}"
      ]
     },
     "execution_count": 15,
     "metadata": {},
     "output_type": "execute_result"
    }
   ],
   "source": [
    "applyAction({'hungry': 1, 'rested': 1, 'haveFood': 1}, a5)"
   ]
  },
  {
   "cell_type": "code",
   "execution_count": 16,
   "id": "5f0dbba8",
   "metadata": {},
   "outputs": [
    {
     "data": {
      "text/plain": [
       "{'rested': 1, 'haveMoney': 1}"
      ]
     },
     "execution_count": 16,
     "metadata": {},
     "output_type": "execute_result"
    }
   ],
   "source": [
    "applyAction({'rested': 1}, a7)"
   ]
  },
  {
   "cell_type": "code",
   "execution_count": 17,
   "id": "54d3b1f6",
   "metadata": {},
   "outputs": [
    {
     "data": {
      "text/plain": [
       "{'rested': 1, 'carChecked': 1}"
      ]
     },
     "execution_count": 17,
     "metadata": {},
     "output_type": "execute_result"
    }
   ],
   "source": [
    "applyAction({'rested': 1, 'haveMoney': 1}, a2)"
   ]
  },
  {
   "cell_type": "code",
   "execution_count": 18,
   "id": "7b3a7027",
   "metadata": {},
   "outputs": [
    {
     "data": {
      "text/plain": [
       "{'rested': 1, 'carChecked': 1, 'haveMoney': 1}"
      ]
     },
     "execution_count": 18,
     "metadata": {},
     "output_type": "execute_result"
    }
   ],
   "source": [
    "applyAction({'rested': 1, 'carChecked': 1}, a7)"
   ]
  },
  {
   "cell_type": "code",
   "execution_count": 19,
   "id": "20068736",
   "metadata": {},
   "outputs": [
    {
     "data": {
      "text/plain": [
       "{'rested': 1, 'carChecked': 1, 'carFuel': 1}"
      ]
     },
     "execution_count": 19,
     "metadata": {},
     "output_type": "execute_result"
    }
   ],
   "source": [
    "applyAction({'rested': 1, 'carChecked': 1, 'haveMoney': 1}, a6)"
   ]
  },
  {
   "cell_type": "code",
   "execution_count": 20,
   "id": "1fabc43e",
   "metadata": {},
   "outputs": [
    {
     "data": {
      "text/plain": [
       "{'rested': 1, 'carChecked': 1, 'carFuel': 1, 'haveBags': 1}"
      ]
     },
     "execution_count": 20,
     "metadata": {},
     "output_type": "execute_result"
    }
   ],
   "source": [
    "applyAction({'rested': 1, 'carChecked': 1, 'carFuel': 1}, a8)"
   ]
  },
  {
   "cell_type": "code",
   "execution_count": 21,
   "id": "bc6cd0fc",
   "metadata": {},
   "outputs": [
    {
     "data": {
      "text/plain": [
       "{'haveBags': 1, 'atDestination': 1}"
      ]
     },
     "execution_count": 21,
     "metadata": {},
     "output_type": "execute_result"
    }
   ],
   "source": [
    "applyAction({'rested': 1, 'carChecked': 1, 'carFuel': 1, 'haveBags': 1}, a3)"
   ]
  },
  {
   "cell_type": "code",
   "execution_count": 22,
   "id": "e6cc36cd",
   "metadata": {},
   "outputs": [
    {
     "data": {
      "text/plain": [
       "True"
      ]
     },
     "execution_count": 22,
     "metadata": {},
     "output_type": "execute_result"
    }
   ],
   "source": [
    "atGoal({'haveBags': 1, 'atDestination': 1}, goal)"
   ]
  },
  {
   "cell_type": "code",
   "execution_count": 23,
   "id": "2d96d374",
   "metadata": {},
   "outputs": [
    {
     "data": {
      "text/plain": [
       "{'atDestination': 1, 'haveBags': 1}"
      ]
     },
     "execution_count": 23,
     "metadata": {},
     "output_type": "execute_result"
    }
   ],
   "source": [
    "goal"
   ]
  },
  {
   "cell_type": "code",
   "execution_count": 24,
   "id": "4aa3a0c4",
   "metadata": {},
   "outputs": [
    {
     "data": {
      "text/plain": [
       "{}"
      ]
     },
     "execution_count": 24,
     "metadata": {},
     "output_type": "execute_result"
    }
   ],
   "source": [
    "getNegativeFluents(goal)"
   ]
  },
  {
   "cell_type": "code",
   "execution_count": 25,
   "id": "4fe912f0",
   "metadata": {
    "scrolled": true
   },
   "outputs": [
    {
     "data": {
      "text/plain": [
       "{('atDestination', 1), ('haveBags', 1)}"
      ]
     },
     "execution_count": 25,
     "metadata": {},
     "output_type": "execute_result"
    }
   ],
   "source": [
    "{'haveBags': 1, 'atDestination': 1}.items() - getNegativeFluents(goal).copy().items()"
   ]
  },
  {
   "cell_type": "code",
   "execution_count": null,
   "id": "2fedf5dd",
   "metadata": {},
   "outputs": [],
   "source": []
  },
  {
   "cell_type": "code",
   "execution_count": 26,
   "id": "ae3f5812",
   "metadata": {},
   "outputs": [
    {
     "data": {
      "text/plain": [
       "{'hungry': 1, 'haveBags': 1, 'atDestination': 1}"
      ]
     },
     "execution_count": 26,
     "metadata": {},
     "output_type": "execute_result"
    }
   ],
   "source": [
    "s = applyAction(start, a7)\n",
    "s = applyAction(s, a2)\n",
    "s = applyAction(s, a8)\n",
    "s = applyAction(s, a7)\n",
    "s = applyAction(s, a6)\n",
    "s = applyAction(s, a1)\n",
    "s = applyAction(s, a3)\n",
    "s"
   ]
  },
  {
   "cell_type": "code",
   "execution_count": 27,
   "id": "6b2c42a5",
   "metadata": {},
   "outputs": [
    {
     "data": {
      "text/plain": [
       "{'hungry': 1, 'haveBags': 1, 'atDestination': 1}"
      ]
     },
     "execution_count": 27,
     "metadata": {},
     "output_type": "execute_result"
    }
   ],
   "source": [
    "s = applyAction(start, a7)\n",
    "s = applyAction(s, a2)\n",
    "s = applyAction(s, a8)\n",
    "s = applyAction(s, a7)\n",
    "s = applyAction(s, a6)\n",
    "s = applyAction(s, a1)\n",
    "s = applyAction(s, a3)\n",
    "s"
   ]
  },
  {
   "cell_type": "markdown",
   "id": "cf265b4a",
   "metadata": {},
   "source": [
    "## Test A* on our PDDL and validate the solution"
   ]
  },
  {
   "cell_type": "code",
   "execution_count": 28,
   "id": "d9ddc437",
   "metadata": {},
   "outputs": [
    {
     "name": "stdout",
     "output_type": "stream",
     "text": [
      "Solution: ['WithdrawMoney', 'CheckCar', 'LoadCar', 'WithdrawMoney', 'FuelUpCar', 'Sleep', 'Drive', 'WithdrawMoney', 'BuyFood', 'Eat']\n",
      "The given PDDL solution is valid\n"
     ]
    }
   ],
   "source": [
    "solution = aStar(start, goal, actions)\n",
    "print(f'Solution: {[a.name for a in solution]}')\n",
    "validatePDDL(start, goal, solution)"
   ]
  },
  {
   "cell_type": "markdown",
   "id": "2b585205",
   "metadata": {},
   "source": [
    "# Test A* with simple example"
   ]
  },
  {
   "cell_type": "markdown",
   "id": "91f8719e",
   "metadata": {},
   "source": [
    "<img src=\"astar-mini-ex.png\" alt=\"A* simple example\" width=\"500\"/>"
   ]
  },
  {
   "cell_type": "code",
   "execution_count": 29,
   "id": "2d27da98",
   "metadata": {},
   "outputs": [
    {
     "name": "stdout",
     "output_type": "stream",
     "text": [
      "The given PDDL solution is valid\n",
      "['run']\n",
      "The given PDDL solution is valid\n",
      "['walk1', 'walk2']\n",
      "The given PDDL solution is valid\n",
      "['walk1', 'walk2']\n",
      "All test cases for function \"aStar\" passed\n"
     ]
    }
   ],
   "source": [
    "def testAstar():\n",
    "    \n",
    "    start = {'person':1}\n",
    "    runCost = 1\n",
    "    a1 = Action(p={'person':1},e={'halfway':1},c=1,n=\"walk1\")\n",
    "    a2 = Action(p={'person':1, 'halfway':1},e={'atDestination':1},c=1,n=\"walk2\")\n",
    "    a3 = Action(p={'person':1},e={'halfway':1,'atDestination':1}, c = runCost, n=\"run\")\n",
    "    actions=[a1, a2, a3]\n",
    "    goal = {'halfway':1,'person':1,'atDestination': 1}\n",
    "    solution = aStar(start, goal, actions)\n",
    "    \n",
    "    validatePDDL(start, goal, solution)\n",
    "    \n",
    "    # Run should be the only solution\n",
    "    print([a.name for a in solution])\n",
    "    assert(all(a in [a3] for a in solution))\n",
    "    \n",
    "    # One of the solutions should be true\n",
    "    runCost = 3\n",
    "    a3 = Action(p={'person':1},e={'atDestination':1}, c = runCost, n=\"run\")\n",
    "    actions=[a1, a2, a3]\n",
    "    solution = aStar(start, goal, actions)\n",
    "    validatePDDL(start, goal, solution)\n",
    "    print([a.name for a in solution])\n",
    "    assert(all(a in [a1,a2] for a in solution) or all(a in [a3] for a in solution))\n",
    "    \n",
    "    # Walk1+2 should be the only solution\n",
    "    runCost = 4\n",
    "    a3 = Action(p={'person':1},e={'atDestination':1}, c = runCost, n=\"run\")\n",
    "    actions=[a1, a2, a3]\n",
    "    solution = aStar(start, goal, actions)\n",
    "    validatePDDL(start, goal, solution)\n",
    "    print([a.name for a in solution])\n",
    "    assert(all(a in [a1,a2] for a in solution))\n",
    "    \n",
    "    \n",
    "    print(f'All test cases for function \"aStar\" passed')\n",
    "    \n",
    "testAstar()"
   ]
  },
  {
   "cell_type": "code",
   "execution_count": null,
   "id": "472e3476",
   "metadata": {},
   "outputs": [],
   "source": []
  },
  {
   "cell_type": "code",
   "execution_count": null,
   "id": "416d5214",
   "metadata": {},
   "outputs": [],
   "source": []
  },
  {
   "cell_type": "code",
   "execution_count": 30,
   "id": "5e220fed",
   "metadata": {},
   "outputs": [
    {
     "name": "stdout",
     "output_type": "stream",
     "text": [
      "Solution: ['WithdrawMoney', 'CheckCar', 'LoadCar', 'WithdrawMoney', 'FuelUpCar', 'Sleep B', 'Drive', 'WithdrawMoney', 'BuyFood', 'Eat']\n",
      "The given PDDL solution is valid\n"
     ]
    }
   ],
   "source": [
    "goal = {'atDestination':1,'haveBags':1} #I believe i dont need to put hungry 0\n",
    "start = {'hungry':1} #world-comp: any positive fluent not specified means negated[...]\n",
    "a1 = Action(p={},e={\"rested\":1},c=80,n=\"Sleep\")\n",
    "a2 = Action(p={\"haveMoney\":1,\"haveBags\":0},e={\"carChecked\":1,\"haveMoney\":0},c=2,n=\"CheckCar\")\n",
    "a3 = Action(p={\"carChecked\":1,\"haveBags\":1,\"rested\":1,\"carFuel\":1},e={\"rested\":0,'carChecked':0,\"carFuel\":0,'atDestination':1},c=4,n=\"Drive\")\n",
    "a4 = Action(p={\"haveMoney\":1},e={\"haveFood\":1,\"haveMoney\":0},c=1,n=\"BuyFood\")\n",
    "a5 = Action(p={\"hungry\":1,\"haveFood\":1},e={\"hungry\":0,\"haveFood\":0},c=1,n=\"Eat\")\n",
    "a6 = Action(p={\"haveMoney\":1},e={\"haveMoney\":0,\"carFuel\":1},c=1,n=\"FuelUpCar\")\n",
    "a7 = Action(p={},e={\"haveMoney\":1},c=1,n=\"WithdrawMoney\")\n",
    "a8 = Action(p={},e={\"haveBags\":1,},c=1,n=\"LoadCar\")\n",
    "a9 = Action(p={},e={\"rested\":1},c=1,n=\"Sleep B\")\n",
    "\n",
    "t=[a1,a2,a3,a4,a5,a6,a7,a8,a9]\n",
    "\n",
    "solution = aStar(start, goal, t)\n",
    "print(f'Solution: {[a.name for a in solution]}')\n",
    "validatePDDL(start, goal, solution)"
   ]
  },
  {
   "cell_type": "code",
   "execution_count": 31,
   "id": "789649d1",
   "metadata": {},
   "outputs": [
    {
     "name": "stdout",
     "output_type": "stream",
     "text": [
      "Solution: ['WithdrawMoney', 'CheckCar', 'LoadCar', 'WithdrawMoney', 'FuelUpCar', 'Sleep B', 'Drive', 'WithdrawMoney', 'BuyFood', 'Eat']\n",
      "The given PDDL solution is valid\n"
     ]
    }
   ],
   "source": [
    "solution = aStar(start, goal, t)\n",
    "print(f'Solution: {[a.name for a in solution]}')\n",
    "validatePDDL(start, goal, solution)"
   ]
  },
  {
   "cell_type": "code",
   "execution_count": 34,
   "id": "16b0b067",
   "metadata": {},
   "outputs": [
    {
     "name": "stdout",
     "output_type": "stream",
     "text": [
      "A* found a path with cost: 10\n",
      "Solution: ['Pack', 'FuelCar', 'Drive']\n"
     ]
    }
   ],
   "source": [
    "demoGoal = {'atDestination':1,'haveBags':1}\n",
    "demoStart = {\"atHome\":1} \n",
    "demoState = {}\n",
    "demoSteps = []\n",
    "demoA1 = Action(p={\"atHome\":1},e={\"haveBags\":1},c=1,n=\"Pack\")\n",
    "demoA2 = Action(p={\"haveBags\":1, \"carFueled\":0},e={\"carFueled\":1},c=2,n=\"FuelCar\")\n",
    "demoA3 = Action(p={\"haveBags\":1,\"carFueled\":1,\"atDestination\":0},e={\"carFueled\":0,'atDestination':1,\"atHome\":0},c=5,n=\"Drive\")\n",
    "demoA4 = Action(p={\"haveBags\":1, \"atHome\":1},e={\"atTerminal\":1,\"atHome\":0},c=2,n=\"Go To Terminal\")\n",
    "demoA5 = Action(p={\"atTerminal\":1,\"haveBags\":1,\"boarded\":0},e={\"boarded\":1},c=1,n=\"Board\")\n",
    "demoA6 = Action(p={\"atTerminal\":1, \"boarded\":0, \"checkedIn\":0},e={\"checkedIn\":1},c=1,n=\"Check In\")\n",
    "demoA7 = Action(p={\"checkedIn\":0,\"boarded\":1, \"atDestination\":0},e={\"atDestination\":1, \"atTerminal\":0, \"boarded\":0},c=3,n=\"Take Train\")\n",
    "demoA8 = Action(p={\"checkedIn\":1,\"boarded\":1, \"atDestination\":0},e={\"atDestination\":1,\"atTerminal\":0,\"boarded\":0, \"checkedIn\":0},c=1,n=\"Take Plane\")\n",
    "\n",
    "demoActions=[demoA1,demoA2,demoA3,demoA4,demoA5,demoA6,demoA7,demoA8]\n",
    "\n",
    "solution = aStar(demoStart, demoGoal, demoActions)\n",
    "print(f'Solution: {[a.name for a in solution]}')"
   ]
  },
  {
   "cell_type": "code",
   "execution_count": null,
   "id": "bdd28373",
   "metadata": {},
   "outputs": [],
   "source": []
  }
 ],
 "metadata": {
  "kernelspec": {
   "display_name": "Python 3 (ipykernel)",
   "language": "python",
   "name": "python3"
  },
  "language_info": {
   "codemirror_mode": {
    "name": "ipython",
    "version": 3
   },
   "file_extension": ".py",
   "mimetype": "text/x-python",
   "name": "python",
   "nbconvert_exporter": "python",
   "pygments_lexer": "ipython3",
   "version": "3.11.4"
  }
 },
 "nbformat": 4,
 "nbformat_minor": 5
}
