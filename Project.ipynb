{
 "cells": [
  {
   "cell_type": "markdown",
   "id": "7dd562cb",
   "metadata": {},
   "source": [
    "# Action class"
   ]
  },
  {
   "cell_type": "code",
   "execution_count": 1,
   "id": "51180caa",
   "metadata": {},
   "outputs": [],
   "source": [
    "class Action:\n",
    "    pre = {} #preconditions\n",
    "    eff={} #effects\n",
    "    cost=0\n",
    "    name = \"\"\n",
    "    def __init__(self, p, e, c, n):\n",
    "        self.pre = p\n",
    "        self.eff = e\n",
    "        self.name = n\n",
    "        self.cost = c\n",
    "        \n",
    "    def formatFluents(self, d):\n",
    "        string = \"\"\n",
    "        for k in d.keys():\n",
    "            if(d[k]==0):\n",
    "                string += \"\\n- \" + k\n",
    "            else:\n",
    "                string += \"\\n+ \" + k\n",
    "        return string\n",
    "\n",
    "    def __str__(self):\n",
    "        return f'Name: {self.name} \\nCost: {self.cost} \\nPreconditions: {self.formatFluents(self.pre)} \\nEffects: {self.formatFluents(self.eff)}'"
   ]
  },
  {
   "cell_type": "markdown",
   "id": "fe567f89",
   "metadata": {},
   "source": [
    "## Define actions"
   ]
  },
  {
   "cell_type": "code",
   "execution_count": 2,
   "id": "bd927684",
   "metadata": {},
   "outputs": [],
   "source": [
    "a1 = Action(p={\"person\":1, \"hungry\":0, \"hasCake\":1},e={\"hasCake\":0, \"person\":0},c=2,n=\"EatCake B\")\n",
    "a2 = Action(p={\"person\":1, \"hungry\":1, \"hasCake\":1},e={\"hasCake\":0, \"eatenCake\":1,\"hungry\":0},c=2,n=\"EatCake A\")\n",
    "a3 = Action(p={\"person\":1,\"hasMix\":1},e={\"hasCake\":1,\"hasMix\":0},c=2,n=\"MakeCake\")\n",
    "a4 = Action(p={\"person\":1,\"hungry\":0},e={\"hungry\":1},c=4,n=\"Wait\")\n",
    "a5 = Action(p={\"person\":1},e={\"hasMix\":1},c=1,n=\"Go Shopping\")\n",
    "\n",
    "actions = [a1,a2,a3,a4,a5]"
   ]
  },
  {
   "cell_type": "markdown",
   "id": "e32ceb6d",
   "metadata": {},
   "source": [
    "## Define start and goal state"
   ]
  },
  {
   "cell_type": "code",
   "execution_count": 3,
   "id": "e41dcd0a",
   "metadata": {},
   "outputs": [],
   "source": [
    "goal = {'person':1,'hungry':0, \"hasCake\":1, \"eatenCake\":1}\n",
    "start = {'person':1}"
   ]
  },
  {
   "cell_type": "markdown",
   "id": "8a78d5d2",
   "metadata": {},
   "source": [
    "## Define functions"
   ]
  },
  {
   "cell_type": "code",
   "execution_count": 4,
   "id": "8595ba28",
   "metadata": {},
   "outputs": [],
   "source": [
    "# Get only positive fluents\n",
    "def getPositiveFluents(state):\n",
    "    return {key:val for key, val in state.items() if val == 1}\n",
    "\n",
    "# Get only negative fluents\n",
    "def getNegativeFluents(state):\n",
    "    return {key:val for key, val in state.items() if val == 0}\n",
    "\n",
    "# Check if two states match\n",
    "def statesMatch(s1,s2):\n",
    "    return s1 == s2\n",
    "\n",
    "# Checks if an action is applicable for a given state\n",
    "def isApplicable(state, action):\n",
    "    positives = getPositiveFluents(state).copy()\n",
    "    positivePres = getPositiveFluents(action.pre).copy()\n",
    "    negativePres = getNegativeFluents(action.pre).copy()\n",
    "    positivesFulfilled = positivePres.items() <= positives.items()\n",
    "    negativesNotConsumed = any(p in positives for p in negativePres) == False\n",
    "    return positivesFulfilled & negativesNotConsumed\n",
    "    \n",
    "\n",
    "# For a state and all possible actions, return the [applicable actions] for the given state\n",
    "def applicableActions(state, actions):\n",
    "    arr = []\n",
    "    for a in actions:\n",
    "        if isApplicable(state, a):\n",
    "            arr.append(a)\n",
    "    return arr\n",
    "\n",
    "# Given a state and an action, applies the action and returns the following state if all preconditions are met\n",
    "def applyAction(state, action):    \n",
    "    if isApplicable(state, action) == False:\n",
    "        raise Exception(f'Action {action.name} cannot be applied to state {str(state)}')\n",
    "    newState = state.copy()\n",
    "    effects = action.eff.copy()\n",
    "    for k in effects.keys():\n",
    "        newState[k] = effects[k]\n",
    "        if effects[k] == 0:\n",
    "            newState.pop(k)\n",
    "    return newState"
   ]
  },
  {
   "cell_type": "markdown",
   "id": "4358d7fb",
   "metadata": {},
   "source": [
    "# TODO: tests for applyAction"
   ]
  },
  {
   "cell_type": "markdown",
   "id": "c4aba375",
   "metadata": {},
   "source": [
    "# Testing"
   ]
  },
  {
   "cell_type": "code",
   "execution_count": 5,
   "id": "faebc387",
   "metadata": {},
   "outputs": [],
   "source": [
    "def testStatesMatch():\n",
    "    \n",
    "    # Test null state\n",
    "    s1 = {}\n",
    "    s2 = {}\n",
    "    assert(statesMatch(s1,s2))\n",
    "    \n",
    "    # Test equal state\n",
    "    s1 = {'person':1,'hungry':0}\n",
    "    s2 = {'person':1,'hungry':0}\n",
    "    assert(statesMatch(s1,s2))\n",
    "    \n",
    "    # Test non-equal fluents state\n",
    "    s1 = {'person':1,'hungry':0}\n",
    "    s2 = {'person':0,'hungry':1}\n",
    "    assert(statesMatch(s1,s2) == False)\n",
    "    \n",
    "    # Test different states\n",
    "    s1 = {'person':1}\n",
    "    s2 = {'hungry':1}\n",
    "    assert(statesMatch(s1,s2) == False)\n",
    "    \n",
    "    # Test different states\n",
    "    s1 = {'person':1}\n",
    "    s2 = {'hungry':0}\n",
    "    assert(statesMatch(s1,s2) == False)\n",
    "    \n",
    "    # Test different states\n",
    "    s1 = {'person':1}\n",
    "    s2 = {'person':1, 'hungry':0}\n",
    "    assert(statesMatch(s1,s2) == False)\n",
    "    \n",
    "    # Test different states\n",
    "    s1 = {'person':1}\n",
    "    s2 = {'person':1, 'hungry':1}\n",
    "    assert(statesMatch(s1,s2) == False)\n",
    "    \n",
    "    print(f'All test cases for function \"statesMatch\" passed')\n",
    "\n",
    "    \n",
    "def testGetPositiveFluents():\n",
    "    s = {'person':0,'hungry':0}\n",
    "    assert(getPositiveFluents(s) == {})\n",
    "    \n",
    "    s = {'person':1,'hungry':0}\n",
    "    assert(getPositiveFluents(s) == {'person':1})\n",
    "    \n",
    "    s = {'person':1, 'hungry':1, 'angry': 1}\n",
    "    assert(getPositiveFluents(s) == {'person':1, 'hungry':1, 'angry': 1})\n",
    "    \n",
    "    s = {'person':1}\n",
    "    assert(getPositiveFluents(s) == {'person':1})\n",
    "    \n",
    "    print(f'All test cases for function \"getPositiveFluents\" passed')\n",
    "    \n",
    "def testApplicableActions():\n",
    "    # Test cases from powerpoint examples\n",
    "    start = {'person':1}\n",
    "    applActions = applicableActions(start, actions)\n",
    "    assert(all(a in [a4,a5] for a in applActions))\n",
    "    assert(any(a in [a1,a2,a3] for a in applActions) == False)\n",
    "    \n",
    "    s1 = {'person': 1, 'hasMix': 1}\n",
    "    applActions = applicableActions(s1, actions)\n",
    "    assert(all(a in [a3,a4,a5] for a in applActions))\n",
    "    assert(any(a in [a1,a2] for a in applActions) == False)\n",
    "    \n",
    "    s2 = {'person': 1, 'hungry': 1}\n",
    "    applActions = applicableActions(s2, actions)\n",
    "    assert(all(a in [a5] for a in applActions))\n",
    "    assert(any(a in [a1,a2,a3,a4] for a in applActions) == False)\n",
    "    \n",
    "    s3 = {'person': 1, 'hasCake': 1}\n",
    "    applActions = applicableActions(s3, actions)\n",
    "    assert(all(a in [a1,a4,a5] for a in applActions))\n",
    "    assert(any(a in [a2,a3] for a in applActions) == False)\n",
    "    \n",
    "    s4 = {'person': 1, 'hungry': 1, 'hasMix': 1}\n",
    "    applActions = applicableActions(s4, actions)\n",
    "    assert(all(a in [a3,a5] for a in applActions))\n",
    "    assert(any(a in [a1,a2,a4] for a in applActions) == False)\n",
    "    \n",
    "    print(f'All test cases for function \"applicableActions\" passed')\n"
   ]
  },
  {
   "cell_type": "code",
   "execution_count": 6,
   "id": "e6122343",
   "metadata": {},
   "outputs": [
    {
     "name": "stdout",
     "output_type": "stream",
     "text": [
      "All test cases for function \"statesMatch\" passed\n",
      "All test cases for function \"getPositiveFluents\" passed\n",
      "All test cases for function \"applicableActions\" passed\n"
     ]
    }
   ],
   "source": [
    "testStatesMatch()\n",
    "testGetPositiveFluents()\n",
    "testApplicableActions()"
   ]
  },
  {
   "cell_type": "code",
   "execution_count": null,
   "id": "5a295aab",
   "metadata": {},
   "outputs": [],
   "source": []
  }
 ],
 "metadata": {
  "kernelspec": {
   "display_name": "Python 3 (ipykernel)",
   "language": "python",
   "name": "python3"
  },
  "language_info": {
   "codemirror_mode": {
    "name": "ipython",
    "version": 3
   },
   "file_extension": ".py",
   "mimetype": "text/x-python",
   "name": "python",
   "nbconvert_exporter": "python",
   "pygments_lexer": "ipython3",
   "version": "3.11.4"
  }
 },
 "nbformat": 4,
 "nbformat_minor": 5
}
