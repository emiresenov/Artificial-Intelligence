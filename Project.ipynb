{
 "cells": [
  {
   "cell_type": "markdown",
   "id": "ac179fa1",
   "metadata": {},
   "source": [
    "# Action class"
   ]
  },
  {
   "cell_type": "code",
   "execution_count": 1,
   "id": "fedbba50",
   "metadata": {},
   "outputs": [],
   "source": [
    "class Action:\n",
    "    pre = {} #preconditions\n",
    "    eff={} #effects\n",
    "    cost=0\n",
    "    name = \"\"\n",
    "    def __init__(self, p, e, c, n):\n",
    "        self.pre = p\n",
    "        self.eff = e\n",
    "        self.name = n\n",
    "        self.cost = c\n",
    "\n",
    "    def formatFluents(self, d):\n",
    "      string = \"\"\n",
    "      for k in d.keys():\n",
    "        if(d[k]==0):\n",
    "            string += \"\\n- \" + k\n",
    "        else:\n",
    "            string += \"\\n+ \" + k\n",
    "      return string\n",
    "\n",
    "    def __str__(self):\n",
    "      return f'Name: {self.name} \\nCost: {self.cost} \\nPreconditions: {self.formatFluents(self.pre)} \\nEffects: {self.formatFluents(self.eff)}'"
   ]
  },
  {
   "cell_type": "markdown",
   "id": "057ef746",
   "metadata": {},
   "source": [
    "## Define actions"
   ]
  },
  {
   "cell_type": "code",
   "execution_count": 2,
   "id": "1b87adae",
   "metadata": {},
   "outputs": [],
   "source": [
    "a1 = Action(p={\"person\":1, \"hungry\":0, \"hasCake\":1},e={\"hasCake\":0, \"person\":0},c=2,n=\"EatCake B\")\n",
    "a2 = Action(p={\"person\":1, \"hungry\":1, \"hasCake\":1},e={\"hasCake\":0, \"eatenCake\":1,\"hungry\":0},c=2,n=\"EatCake A\")\n",
    "a3 = Action(p={\"person\":1,\"hasMix\":1},e={\"hasCake\":1,\"hasMix\":0},c=2,n=\"MakeCake\")\n",
    "a4 = Action(p={\"person\":1,\"hungry\":0},e={\"hungry\":1},c=4,n=\"Wait\")\n",
    "a5 = Action(p={\"person\":1},e={\"hasMix\":1},c=1,n=\"Go Shopping A\")\n",
    "a6 = Action(p={\"person\":1},e={\"hasCar\":1},c=1,n=\"Go Shopping B\")\n",
    "\n",
    "actions = [a1,a2,a3,a4,a5,a6]"
   ]
  },
  {
   "cell_type": "code",
   "execution_count": 3,
   "id": "7d23f6e8",
   "metadata": {},
   "outputs": [],
   "source": [
    "goal = {'person':1,'hungry':0, \"hasCake\":1, \"eatenCake\":1}\n",
    "start = {'person':1}"
   ]
  },
  {
   "cell_type": "markdown",
   "id": "da0d97e6",
   "metadata": {},
   "source": [
    "## Define functions"
   ]
  },
  {
   "cell_type": "code",
   "execution_count": 16,
   "id": "ae36a520",
   "metadata": {},
   "outputs": [],
   "source": [
    "# Get only positive fluents\n",
    "def getPositiveFluents(state):\n",
    "    return {key:val for key, val in state.items() if val == 1}\n",
    "\n",
    "# Check if two states match\n",
    "def statesMatch(s1,s2):\n",
    "    return s1 == s2\n",
    "\n",
    "# Checks if an action is applicable for a given state\n",
    "def isApplicable(state, action):\n",
    "    positivesState = getPositiveFluents(state).copy()\n",
    "    positivesAction = getPositiveFluents(action.pre).copy()\n",
    "    return statesMatch(positivesState, positivesAction)\n",
    "    \n",
    "\n",
    "# For a state and all possible actions, return the [applicable actions] for the given state\n",
    "def applicableActions(state, actions):\n",
    "    arr = []\n",
    "    for a in actions:\n",
    "        if isApplicable(state, a):\n",
    "            arr.append(a)\n",
    "    return arr\n",
    "\n",
    "# Given a state and an action, applies the action and returns the following state if all preconditions are met\n",
    "def applyAction(state, action):\n",
    "    if isApplicable(state, action) == False:\n",
    "        raise Exception(f'Action {action.name} cannot be applied to state {str(state)}')\n",
    "    for k in action.eff.keys():\n",
    "        if k in state.keys():\n",
    "            if (state[k]==1 and action.eff[k]==0):\n",
    "                state.pop(k)\n",
    "        else:\n",
    "            state[k]=action.eff[k]\n",
    "    return state"
   ]
  },
  {
   "cell_type": "code",
   "execution_count": 26,
   "id": "c0dbefeb",
   "metadata": {},
   "outputs": [
    {
     "data": {
      "text/plain": [
       "{'person': 1, 'hasCar': 1}"
      ]
     },
     "execution_count": 26,
     "metadata": {},
     "output_type": "execute_result"
    }
   ],
   "source": [
    "start = {'person':1}\n",
    "applyAction(start, a6)"
   ]
  },
  {
   "cell_type": "code",
   "execution_count": 9,
   "id": "dd53559a",
   "metadata": {},
   "outputs": [
    {
     "name": "stdout",
     "output_type": "stream",
     "text": [
      "['Wait', 'Go Shopping A', 'Go Shopping B']\n"
     ]
    }
   ],
   "source": [
    "print([a.name for a in applicableActions(start, actions)])"
   ]
  },
  {
   "cell_type": "markdown",
   "id": "b8bda1bc",
   "metadata": {},
   "source": [
    "# Testing"
   ]
  },
  {
   "cell_type": "code",
   "execution_count": null,
   "id": "6b159432",
   "metadata": {},
   "outputs": [],
   "source": [
    "def testStatesMatch():\n",
    "    \n",
    "    # Test null state\n",
    "    s1 = {}\n",
    "    s2 = {}\n",
    "    assert(statesMatch(s1,s2))\n",
    "    \n",
    "    # Test equal state\n",
    "    s1 = {'person':1,'hungry':0}\n",
    "    s2 = {'person':1,'hungry':0}\n",
    "    assert(statesMatch(s1,s2))\n",
    "    \n",
    "    # Test non-equal fluents state\n",
    "    s1 = {'person':1,'hungry':0}\n",
    "    s2 = {'person':0,'hungry':1}\n",
    "    assert(statesMatch(s1,s2) == False)\n",
    "    \n",
    "    # Test different states\n",
    "    s1 = {'person':1}\n",
    "    s2 = {'hungry':1}\n",
    "    assert(statesMatch(s1,s2) == False)\n",
    "    \n",
    "    # Test different states\n",
    "    s1 = {'person':1}\n",
    "    s2 = {'hungry':0}\n",
    "    assert(statesMatch(s1,s2) == False)\n",
    "    \n",
    "    # Test different states\n",
    "    s1 = {'person':1}\n",
    "    s2 = {'person':1, 'hungry':0}\n",
    "    assert(statesMatch(s1,s2) == False)\n",
    "    \n",
    "    # Test different states\n",
    "    s1 = {'person':1}\n",
    "    s2 = {'person':1, 'hungry':1}\n",
    "    assert(statesMatch(s1,s2) == False)\n",
    "    \n",
    "    print(f'All test cases for function \"statesMatch\" passed')\n",
    "\n",
    "    \n",
    "def testGetPositiveFluents():\n",
    "    \n",
    "    s = {'person':0,'hungry':0}\n",
    "    assert(getPositiveFluents(s) == {})\n",
    "    \n",
    "    s = {'person':1,'hungry':0}\n",
    "    assert(getPositiveFluents(s) == {'person':1})\n",
    "    \n",
    "    s = {'person':1, 'hungry':1, 'angry': 1}\n",
    "    assert(getPositiveFluents(s) == {'person':1, 'hungry':1, 'angry': 1})\n",
    "    \n",
    "    s = {'person':1}\n",
    "    assert(getPositiveFluents(s) == {'person':1})\n",
    "    \n",
    "    print(f'All test cases for function \"getPositiveFluents\" passed')"
   ]
  },
  {
   "cell_type": "code",
   "execution_count": null,
   "id": "5b463d22",
   "metadata": {},
   "outputs": [],
   "source": [
    "testStatesMatch()\n",
    "testGetPositiveFluents()"
   ]
  },
  {
   "cell_type": "code",
   "execution_count": null,
   "id": "a4912c85",
   "metadata": {},
   "outputs": [],
   "source": []
  },
  {
   "cell_type": "code",
   "execution_count": null,
   "id": "6715e933",
   "metadata": {},
   "outputs": [],
   "source": []
  },
  {
   "cell_type": "code",
   "execution_count": null,
   "id": "b6081274",
   "metadata": {},
   "outputs": [],
   "source": []
  },
  {
   "cell_type": "code",
   "execution_count": null,
   "id": "6e64ee70",
   "metadata": {},
   "outputs": [],
   "source": []
  }
 ],
 "metadata": {
  "kernelspec": {
   "display_name": "Python 3 (ipykernel)",
   "language": "python",
   "name": "python3"
  },
  "language_info": {
   "codemirror_mode": {
    "name": "ipython",
    "version": 3
   },
   "file_extension": ".py",
   "mimetype": "text/x-python",
   "name": "python",
   "nbconvert_exporter": "python",
   "pygments_lexer": "ipython3",
   "version": "3.11.4"
  }
 },
 "nbformat": 4,
 "nbformat_minor": 5
}
