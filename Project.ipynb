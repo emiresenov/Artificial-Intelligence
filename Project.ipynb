{
 "cells": [
  {
   "cell_type": "markdown",
   "id": "7dd562cb",
   "metadata": {},
   "source": [
    "# Action class"
   ]
  },
  {
   "cell_type": "code",
   "execution_count": 1,
   "id": "51180caa",
   "metadata": {},
   "outputs": [],
   "source": [
    "class Action:\n",
    "    pre = {} #preconditions\n",
    "    eff={} #effects\n",
    "    cost=0\n",
    "    name = \"\"\n",
    "    def __init__(self, p, e, c, n):\n",
    "        self.pre = p\n",
    "        self.eff = e\n",
    "        self.name = n\n",
    "        self.cost = c\n",
    "        \n",
    "    def formatFluents(self, d):\n",
    "        string = \"\"\n",
    "        for k in d.keys():\n",
    "            if(d[k]==0):\n",
    "                string += \"\\n- \" + k\n",
    "            else:\n",
    "                string += \"\\n+ \" + k\n",
    "        return string\n",
    "\n",
    "    def __str__(self):\n",
    "        return f'Name: {self.name} \\nCost: {self.cost} \\nPreconditions: {self.formatFluents(self.pre)} \\nEffects: {self.formatFluents(self.eff)}'"
   ]
  },
  {
   "cell_type": "markdown",
   "id": "fe567f89",
   "metadata": {},
   "source": [
    "## Define actions"
   ]
  },
  {
   "cell_type": "code",
   "execution_count": 2,
   "id": "bd927684",
   "metadata": {},
   "outputs": [],
   "source": [
    "a1 = Action(p={\"person\":1, \"hungry\":0, \"hasCake\":1},e={\"hasCake\":0, \"person\":0},c=1,n=\"EatCake B\")\n",
    "a2 = Action(p={\"person\":1, \"hungry\":1, \"hasCake\":1},e={\"hasCake\":0, \"eatenCake\":1,\"hungry\":0},c=1,n=\"EatCake A\")\n",
    "a3 = Action(p={\"person\":1,\"hasMix\":1},e={\"hasCake\":1,\"hasMix\":0},c=1,n=\"MakeCake\")\n",
    "a4 = Action(p={\"person\":1,\"hungry\":0},e={\"hungry\":1},c=1,n=\"Wait\")\n",
    "a5 = Action(p={\"person\":1},e={\"hasMix\":1},c=1,n=\"Go Shopping\")\n",
    "\n",
    "actions = [a1,a2,a3,a4,a5]"
   ]
  },
  {
   "cell_type": "markdown",
   "id": "712bdeb1",
   "metadata": {},
   "source": [
    "## Define start and goal state"
   ]
  },
  {
   "cell_type": "code",
   "execution_count": 3,
   "id": "e41dcd0a",
   "metadata": {},
   "outputs": [],
   "source": [
    "goal = {'person':1,'hungry':0, \"hasCake\":1, \"eatenCake\":1}\n",
    "start = {'person':1}"
   ]
  },
  {
   "cell_type": "markdown",
   "id": "8a78d5d2",
   "metadata": {},
   "source": [
    "## Define functions"
   ]
  },
  {
   "cell_type": "code",
   "execution_count": 4,
   "id": "8595ba28",
   "metadata": {},
   "outputs": [],
   "source": [
    "# Get only positive fluents\n",
    "def getPositiveFluents(state):\n",
    "    return {key:val for key, val in state.items() if val == 1}\n",
    "\n",
    "# Get only negative fluents\n",
    "def getNegativeFluents(state):\n",
    "    return {key:val for key, val in state.items() if val == 0}\n",
    "\n",
    "# Check if two states match (match positive fluents only)\n",
    "def statesMatch(s1,s2):\n",
    "    s1_pos = getPositiveFluents(s1).copy()\n",
    "    s2_pos = getPositiveFluents(s2).copy()\n",
    "    return s1_pos == s2_pos\n",
    "\n",
    "# Checks if an action is applicable for a given state\n",
    "def isApplicable(state, action):\n",
    "    positives = getPositiveFluents(state).copy()\n",
    "    positivePres = getPositiveFluents(action.pre).copy()\n",
    "    negativePres = getNegativeFluents(action.pre).copy()\n",
    "    positivesFulfilled = positivePres.items() <= positives.items()\n",
    "    negativesNotConsumed = any(p in positives for p in negativePres) == False\n",
    "    return positivesFulfilled & negativesNotConsumed\n",
    "    \n",
    "\n",
    "# For a state and all possible actions, return the [applicable actions] for the given state\n",
    "def applicableActions(state, actions):\n",
    "    arr = []\n",
    "    for a in actions:\n",
    "        if isApplicable(state, a):\n",
    "            arr.append(a)\n",
    "    return arr\n",
    "\n",
    "# Given a state and an action, applies the action and returns the following state if all preconditions are met\n",
    "def applyAction(state, action):    \n",
    "    if isApplicable(state, action) == False:\n",
    "        raise Exception(f'Action {action.name} cannot be applied to state {str(state)}')\n",
    "    newState = state.copy()\n",
    "    effects = action.eff.copy()\n",
    "    for k in effects.keys():\n",
    "        newState[k] = effects[k]\n",
    "        if effects[k] == 0:\n",
    "            newState.pop(k)\n",
    "    return newState"
   ]
  },
  {
   "cell_type": "markdown",
   "id": "499b94fb",
   "metadata": {},
   "source": [
    "# A*"
   ]
  },
  {
   "cell_type": "code",
   "execution_count": 5,
   "id": "77300d11",
   "metadata": {},
   "outputs": [],
   "source": [
    "# Node class for frontier\n",
    "class Node:\n",
    "    \n",
    "    def __init__(self, state, cost, path):\n",
    "        self.state = state\n",
    "        self.cost = cost\n",
    "        self.path = path\n",
    "\n",
    "    def __str__(self):\n",
    "        pathNames = [p.name for p in self.path]\n",
    "        pathStr = '[' + ', '.join(pathNames) + ']'\n",
    "        return f'State: {self.state}, Cost: {self.cost}, Path: {pathStr}'"
   ]
  },
  {
   "cell_type": "code",
   "execution_count": 6,
   "id": "1ae33620",
   "metadata": {},
   "outputs": [],
   "source": [
    "# Heuristic function for A* – a distance heuristic based on the amount of fluents that differ from the goal\n",
    "def heuristic(nextState, goal):\n",
    "    return len(dict(set(goal.items()) - set(nextState.items())))"
   ]
  },
  {
   "cell_type": "code",
   "execution_count": 7,
   "id": "49c9e9d0",
   "metadata": {},
   "outputs": [],
   "source": [
    "#Input: Start, Goal, Actions. Output: Path of Actions\n",
    "def aStar(start, goal, actions):\n",
    "\n",
    "    # Init start node, frontier and visited list\n",
    "    init = Node(start, 0, [])\n",
    "    frontier = [init]\n",
    "    visited = [init]\n",
    "\n",
    "    while True:\n",
    "\n",
    "        # Get first node from frontier\n",
    "        head = frontier.pop(0)\n",
    "\n",
    "        state = head.state.copy()\n",
    "\n",
    "        # When A* has found a path, return it\n",
    "        if (statesMatch(state, goal)):\n",
    "            return head.path\n",
    "\n",
    "        applicActions = applicableActions(state, actions)\n",
    "\n",
    "        for action in applicActions:\n",
    "            nextState = applyAction(state, action).copy()\n",
    "\n",
    "            # Only apply action if we haven't visited the state before\n",
    "            vis = False\n",
    "            for v in visited:\n",
    "                if v.state == nextState:\n",
    "                    vis = True\n",
    "            if vis == False:\n",
    "                newPath = head.path + [action]\n",
    "                cost = heuristic(nextState, goal) + head.cost + action.cost\n",
    "                newNode = Node(nextState, cost, newPath)\n",
    "                visited.append(newNode)\n",
    "                frontier.append(newNode)\n",
    "\n",
    "        # Sort frontier based on costs\n",
    "        frontier = sorted(frontier, key=lambda x:x.cost)\n",
    "        "
   ]
  },
  {
   "cell_type": "code",
   "execution_count": 8,
   "id": "904bd346",
   "metadata": {},
   "outputs": [
    {
     "name": "stdout",
     "output_type": "stream",
     "text": [
      "['Go Shopping', 'MakeCake', 'Wait', 'EatCake A', 'Go Shopping', 'MakeCake']\n"
     ]
    }
   ],
   "source": [
    "print([a.name for a in aStar(start, goal, actions)])"
   ]
  },
  {
   "cell_type": "markdown",
   "id": "c4aba375",
   "metadata": {},
   "source": [
    "# Testing"
   ]
  },
  {
   "cell_type": "code",
   "execution_count": 9,
   "id": "faebc387",
   "metadata": {},
   "outputs": [],
   "source": [
    "def testStatesMatch():\n",
    "    \n",
    "    # Test null state\n",
    "    s1 = {}\n",
    "    s2 = {}\n",
    "    assert(statesMatch(s1,s2))\n",
    "    \n",
    "    # Test equal state\n",
    "    s1 = {'person':1,'hungry':0}\n",
    "    s2 = {'person':1,'hungry':0}\n",
    "    assert(statesMatch(s1,s2))\n",
    "    \n",
    "    # Test pass by omission\n",
    "    s1 = {'person':1}\n",
    "    s2 = {'person':1, 'hungry':0}\n",
    "    assert(statesMatch(s1,s2))\n",
    "    \n",
    "    # Test non-equal fluents state\n",
    "    s1 = {'person':1,'hungry':0}\n",
    "    s2 = {'person':0,'hungry':1}\n",
    "    assert(statesMatch(s1,s2) == False)\n",
    "    \n",
    "    # Test different states\n",
    "    s1 = {'person':1}\n",
    "    s2 = {'hungry':1}\n",
    "    assert(statesMatch(s1,s2) == False)\n",
    "    \n",
    "    # Test different states\n",
    "    s1 = {'person':1}\n",
    "    s2 = {'hungry':0}\n",
    "    assert(statesMatch(s1,s2) == False)\n",
    "    \n",
    "    # Test different states\n",
    "    s1 = {'person':1}\n",
    "    s2 = {'person':1, 'hungry':1}\n",
    "    assert(statesMatch(s1,s2) == False)\n",
    "    \n",
    "    print(f'All test cases for function \"statesMatch\" passed')\n",
    "\n",
    "    \n",
    "def testGetPositiveFluents():\n",
    "    \n",
    "    s = {'person':0,'hungry':0}\n",
    "    assert(getPositiveFluents(s) == {})\n",
    "    \n",
    "    s = {'person':1,'hungry':0}\n",
    "    assert(getPositiveFluents(s) == {'person':1})\n",
    "    \n",
    "    s = {'person':1, 'hungry':1, 'angry': 1}\n",
    "    assert(getPositiveFluents(s) == {'person':1, 'hungry':1, 'angry': 1})\n",
    "    \n",
    "    s = {'person':1}\n",
    "    assert(getPositiveFluents(s) == {'person':1})\n",
    "    \n",
    "    print(f'All test cases for function \"getPositiveFluents\" passed')\n",
    "    \n",
    "    \n",
    "def testApplicableActions():\n",
    "    # Test cases from powerpoint examples\n",
    "    start = {'person':1}\n",
    "    applActions = applicableActions(start, actions)\n",
    "    assert(all(a in [a4,a5] for a in applActions))\n",
    "    assert(any(a in [a1,a2,a3] for a in applActions) == False)\n",
    "    \n",
    "    s1 = {'person': 1, 'hasMix': 1}\n",
    "    applActions = applicableActions(s1, actions)\n",
    "    assert(all(a in [a3,a4,a5] for a in applActions))\n",
    "    assert(any(a in [a1,a2] for a in applActions) == False)\n",
    "    \n",
    "    s2 = {'person': 1, 'hungry': 1}\n",
    "    applActions = applicableActions(s2, actions)\n",
    "    assert(all(a in [a5] for a in applActions))\n",
    "    assert(any(a in [a1,a2,a3,a4] for a in applActions) == False)\n",
    "    \n",
    "    s3 = {'person': 1, 'hasCake': 1}\n",
    "    applActions = applicableActions(s3, actions)\n",
    "    assert(all(a in [a1,a4,a5] for a in applActions))\n",
    "    assert(any(a in [a2,a3] for a in applActions) == False)\n",
    "    \n",
    "    s4 = {'person': 1, 'hungry': 1, 'hasMix': 1}\n",
    "    applActions = applicableActions(s4, actions)\n",
    "    assert(all(a in [a3,a5] for a in applActions))\n",
    "    assert(any(a in [a1,a2,a4] for a in applActions) == False)\n",
    "    \n",
    "    print(f'All test cases for function \"applicableActions\" passed')\n",
    "\n",
    "    \n",
    "def testApplyAction():\n",
    "    \n",
    "    # Test added fluents\n",
    "    s = {'a':1}\n",
    "    a = Action(p={'a':1},e={'b':1},c=0,n=\"\")\n",
    "    assert(applyAction(s, a) == {'a':1, 'b':1})\n",
    "    a = Action(p={'a':1},e={'b':1, 'c':1},c=0,n=\"\")\n",
    "    assert(applyAction(s, a) == {'a':1, 'b':1, 'c':1})\n",
    "    \n",
    "    # Test omission\n",
    "    s = {'a':1}\n",
    "    a = Action(p={'a':1, 'c':0},e={'b':1, 'c':1},c=0,n=\"\")\n",
    "    assert(applyAction(s, a) == {'a':1, 'b':1, 'c':1})\n",
    "    \n",
    "    # Test negative (applyAction should throw exception)\n",
    "    try:\n",
    "        s = {'a':1, 'c':1}\n",
    "        a = Action(p={'a':1, 'c':0},e={'b':1, 'c':1},c=0,n=\"\")\n",
    "        raise Exception(f'Test negative failed')\n",
    "    except:\n",
    "        pass\n",
    "    \n",
    "    \n",
    "    print(f'All test cases for function \"applyAction\" passed')\n",
    "\n",
    "\n",
    "# Tests valid solutions to the cake-PDDL (See slide 63 - PDDL lecture)\n",
    "def testPDDLsolutions():\n",
    "    \n",
    "    # Test valid path from start to goal\n",
    "    s1 = applyAction(start, a5)\n",
    "    s3 = applyAction(s1, a3)\n",
    "    s5 = applyAction(s3, a5)\n",
    "    s9 = applyAction(s5, a4)\n",
    "    s11 = applyAction(s9, a2)\n",
    "    g = applyAction(s11, a3)\n",
    "    assert(statesMatch(g, goal))\n",
    "    \n",
    "    # Test another valid path from start to goal\n",
    "    s2 = applyAction(start, a4)\n",
    "    s4 = applyAction(s2, a5)\n",
    "    s7 = applyAction(s4, a3)\n",
    "    s10 = applyAction(s7, a2)\n",
    "    s11_v2 = applyAction(s10, a5)\n",
    "    \n",
    "    # sanity check - check that s11 from both versions are identical\n",
    "    assert(statesMatch(s11, s11_v2)) \n",
    "    \n",
    "    g2 = applyAction(s11_v2, a3)\n",
    "    assert(statesMatch(g2, goal))\n",
    "    \n",
    "\n",
    "    print(f'All test cases for function \"testPDDLsolutions\" passed')\n",
    "\n",
    "    \n",
    "# Validate a PDDL solution\n",
    "def validatePDDL(start, goal, solution):\n",
    "    s = start\n",
    "    for a in solution:\n",
    "        s = applyAction(s, a)\n",
    "    assert(statesMatch(s, goal))\n",
    "    print(f'The given PDDL solution is valid')\n",
    "\n",
    "    \n",
    "# Test heuristic function\n",
    "def testHeuristic():\n",
    "    \n",
    "    d1 = {'a':1}\n",
    "    d2 = {'a':1, 'b':2}\n",
    "    assert(heuristic(d1,d2) == 1)\n",
    "    \n",
    "    d1 = {'a':0}\n",
    "    d2 = {'a':1, 'b':2}\n",
    "    assert(heuristic(d1,d2) == 2)\n",
    "    \n",
    "    d1 = {'a':1, 'b':2}\n",
    "    d2 = {'a':1, 'b':2}\n",
    "    assert(heuristic(d1,d2) == 0)\n",
    "    \n",
    "    d1 = {'b':2, 'a':1}\n",
    "    d2 = {'a':1, 'b':2}\n",
    "    assert(heuristic(d1,d2) == 0)\n",
    "    \n",
    "    d1 = {'b':2, 'a':1}\n",
    "    d2 = {}\n",
    "    assert(heuristic(d1,d2) == 0)\n",
    "    \n",
    "    d1 = {'b':2, 'a':1}\n",
    "    d2 = {'a':1}\n",
    "    assert(heuristic(d1,d2) == 0)\n",
    "\n",
    "    print(f'All test cases for function \"heuristic\" passed')"
   ]
  },
  {
   "cell_type": "code",
   "execution_count": 10,
   "id": "e6122343",
   "metadata": {},
   "outputs": [
    {
     "name": "stdout",
     "output_type": "stream",
     "text": [
      "All test cases for function \"statesMatch\" passed\n",
      "All test cases for function \"getPositiveFluents\" passed\n",
      "All test cases for function \"applicableActions\" passed\n",
      "All test cases for function \"applyAction\" passed\n",
      "All test cases for function \"testPDDLsolutions\" passed\n",
      "All test cases for function \"heuristic\" passed\n"
     ]
    }
   ],
   "source": [
    "testStatesMatch()\n",
    "testGetPositiveFluents()\n",
    "testApplicableActions()\n",
    "testApplyAction()\n",
    "testPDDLsolutions()\n",
    "testHeuristic()"
   ]
  },
  {
   "cell_type": "markdown",
   "id": "80335860",
   "metadata": {},
   "source": [
    "# Define our PDDL"
   ]
  },
  {
   "cell_type": "code",
   "execution_count": 11,
   "id": "2ea3482f",
   "metadata": {
    "scrolled": true
   },
   "outputs": [],
   "source": [
    "goal = {'atDestination':1,'haveBags':1} #I believe i dont need to put hungry 0\n",
    "start = {'hungry':1} #world-comp: any positive fluent not specified means negated[...]\n",
    "a1 = Action(p={},e={\"rested\":1},c=2,n=\"Sleep\")\n",
    "a2 = Action(p={\"haveMoney\":1,\"haveBags\":0},e={\"carChecked\":1,\"haveMoney\":0},c=2,n=\"CheckCar\")\n",
    "a3 = Action(p={\"carChecked\":1,\"haveBags\":1,\"rested\":1,\"carFuel\":1},e={\"rested\":0,'carChecked':0,\"carFuel\":0,'atDestination':1},c=4,n=\"Drive\")\n",
    "a4 = Action(p={\"haveMoney\":1},e={\"haveFood\":1,\"haveMoney\":0},c=1,n=\"BuyFood\")\n",
    "a5 = Action(p={\"hungry\":1,\"haveFood\":1},e={\"hungry\":0,\"haveFood\":0},c=1,n=\"Eat\")\n",
    "a6 = Action(p={\"haveMoney\":1},e={\"haveMoney\":0,\"carFuel\":1},c=1,n=\"FuelUpCar\")\n",
    "a7 = Action(p={},e={\"haveMoney\":1},c=1,n=\"WithdrawMoney\")\n",
    "a8 = Action(p={},e={\"haveBags\":1,},c=1,n=\"LoadCar\")\n",
    "actions=[a1,a2,a3,a4,a5,a6,a7,a8]"
   ]
  },
  {
   "cell_type": "markdown",
   "id": "47535d87",
   "metadata": {},
   "source": [
    "## Test A* on our PDDL and validate the solution"
   ]
  },
  {
   "cell_type": "code",
   "execution_count": 12,
   "id": "5f3c4f59",
   "metadata": {},
   "outputs": [
    {
     "name": "stdout",
     "output_type": "stream",
     "text": [
      "Solution: ['WithdrawMoney', 'CheckCar', 'LoadCar', 'WithdrawMoney', 'BuyFood', 'Eat', 'WithdrawMoney', 'FuelUpCar', 'Sleep', 'Drive']\n",
      "The given PDDL solution is valid\n"
     ]
    }
   ],
   "source": [
    "solution = aStar(start, goal, actions)\n",
    "print(f'Solution: {[a.name for a in solution]}')\n",
    "validatePDDL(start, goal, solution)"
   ]
  },
  {
   "cell_type": "code",
   "execution_count": null,
   "id": "0ae89efd",
   "metadata": {},
   "outputs": [],
   "source": []
  }
 ],
 "metadata": {
  "kernelspec": {
   "display_name": "Python 3 (ipykernel)",
   "language": "python",
   "name": "python3"
  },
  "language_info": {
   "codemirror_mode": {
    "name": "ipython",
    "version": 3
   },
   "file_extension": ".py",
   "mimetype": "text/x-python",
   "name": "python",
   "nbconvert_exporter": "python",
   "pygments_lexer": "ipython3",
   "version": "3.11.4"
  }
 },
 "nbformat": 4,
 "nbformat_minor": 5
}
